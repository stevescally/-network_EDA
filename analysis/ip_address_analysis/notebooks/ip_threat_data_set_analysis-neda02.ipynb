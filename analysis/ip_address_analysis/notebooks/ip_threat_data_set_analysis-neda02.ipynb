{
 "cells": [
  {
   "cell_type": "markdown",
   "id": "dc90eaa4-fe9d-41e6-8477-537d7ac86b6d",
   "metadata": {},
   "source": [
    "<h1><span style='color:#8E5609;background:white'>IP Address Threat Data Set - NEDA02 </span></h1>\n",
    "\n",
    "---"
   ]
  },
  {
   "cell_type": "markdown",
   "id": "42b08453-3f34-4960-a5e1-63f4aa45c435",
   "metadata": {},
   "source": [
    "# Objective\n",
    "\n",
    "IP address threat feeds track numerous registered properties about IP addresses that attempt logins, bruteforce, spam, etc. However the network origination does not appear to have regular correlation to track which Autonmous System Numbers the traffic traverses. Here we will analyze a small subset of lists for their difference, similarities and upstream peers to attempt decerning a pattern of malicious AS number peers keeping in mind the volume or level of service the provider is at. Tier1, Tier2, Tier3..etc.  Further we will attempt to develop an associated ranking of AS numbers taking into account their network size. \n",
    "\n",
    "# IP Threat Feed List\n",
    "\n",
    "* Note need to find catagories to break the lists into.\n",
    "    * C2\n",
    "    * Malware\n",
    "    * SSL\n",
    "    * SPAM\n",
    " \n",
    "## IP Blocklists\n",
    "\n",
    "Below are list of IP addresses that have been put on block lists for generic reasons that are not specific to any of the above groups. (C2, Malware, SSL, SPAM)\n",
    "\n",
    "1. https://threatview.io/Downloads/IP-High-Confidence-Feed.txt\n",
    "2. https://rescure.me/rescure_blacklist.txt\n",
    "3. https://blocklist.greensnow.co/greensnow.txt\n",
    "4. https://iplists.firehol.org/files/blocklist_net_ua.ipset\n",
    "5. https://iplists.firehol.org/files/normshield_high_suspicious.ipset\n",
    "6. https://isc.sans.edu/feeds/daily_sources\n",
    "8. https://myip.ms/files/blacklist/htaccess/latest_blacklist.txt\n",
    "9. https://iocfeed.mrlooquer.com/feed.csv\n",
    "10. http://www.talosintelligence.com/documents/ip-blacklist\n",
    "12. https://www.binarydefense.com/banlist.txt\n",
    "13. https://cdn.ellio.tech/community-feed\n",
    "14. https://api.cybercure.ai/feed/get_ips?type=csv\n",
    "15. https://osint.digitalside.it/Threat-Intel/lists/latestips.txt\n",
    "16. https://mirai.security.gives/data/ip_list.txt"
   ]
  },
  {
   "cell_type": "code",
   "execution_count": null,
   "id": "684fcd7e-4544-443c-a931-102064fbcf0e",
   "metadata": {},
   "outputs": [],
   "source": []
  },
  {
   "cell_type": "markdown",
   "id": "e67cad25-b799-44d2-b4c4-0eed1f4cd44d",
   "metadata": {
    "tags": []
   },
   "source": [
    "---\n",
    "\n",
    "<h4>  <span style='color:#8E5609;background:white'>Copyright (C) 2024 www.threatlocus.com</span></h4>\n",
    "\n",
    "## GPLv3 License\n",
    "\n",
    "This program is free software: you can redistribute it and/or modify\n",
    "it under the terms of the GNU General Public License as published by\n",
    "the Free Software Foundation, either version 3 of the License, or\n",
    "(at your option) any later version.\n",
    "\n",
    "This program is distributed in the hope that it will be useful,\n",
    "but WITHOUT ANY WARRANTY; without even the implied warranty of\n",
    "MERCHANTABILITY or FITNESS FOR A PARTICULAR PURPOSE.  See the\n",
    "GNU General Public License for more details.\n",
    "\n",
    "You should have received a copy of the GNU General Public License\n",
    "along with this program.  If not, see <https://www.gnu.org/licenses/>.\n",
    "\n",
    "---"
   ]
  },
  {
   "cell_type": "code",
   "execution_count": null,
   "id": "cb9d28ae-6451-48f0-957c-48d36a7caf48",
   "metadata": {},
   "outputs": [],
   "source": []
  }
 ],
 "metadata": {
  "kernelspec": {
   "display_name": "Python 3 (ipykernel)",
   "language": "python",
   "name": "python3"
  },
  "language_info": {
   "codemirror_mode": {
    "name": "ipython",
    "version": 3
   },
   "file_extension": ".py",
   "mimetype": "text/x-python",
   "name": "python",
   "nbconvert_exporter": "python",
   "pygments_lexer": "ipython3",
   "version": "3.11.5"
  }
 },
 "nbformat": 4,
 "nbformat_minor": 5
}
