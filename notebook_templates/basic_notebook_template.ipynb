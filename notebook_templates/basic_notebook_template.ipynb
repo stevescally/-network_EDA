{
 "cells": [
  {
   "cell_type": "markdown",
   "id": "dc90eaa4-fe9d-41e6-8477-537d7ac86b6d",
   "metadata": {},
   "source": [
    "<h1><span style='color:#8E5609;background:white'> Update Notebook Header Here</span></h1>\n",
    "\n",
    "---"
   ]
  },
  {
   "cell_type": "code",
   "execution_count": null,
   "id": "70a03d21-8391-481d-b2df-b5421a842f60",
   "metadata": {},
   "outputs": [],
   "source": []
  },
  {
   "cell_type": "code",
   "execution_count": null,
   "id": "94b51607-40b0-4195-a85b-efdc6d63c3ee",
   "metadata": {},
   "outputs": [],
   "source": []
  },
  {
   "cell_type": "markdown",
   "id": "e67cad25-b799-44d2-b4c4-0eed1f4cd44d",
   "metadata": {
    "tags": []
   },
   "source": [
    "---\n",
    "\n",
    "<h4>  <span style='color:#8E5609;background:white'>Copyright (C) 2022 www.threatlocus.com</span></h4>\n",
    "\n",
    "## GPLv3 License\n",
    "\n",
    "This program is free software: you can redistribute it and/or modify\n",
    "it under the terms of the GNU General Public License as published by\n",
    "the Free Software Foundation, either version 3 of the License, or\n",
    "(at your option) any later version.\n",
    "\n",
    "This program is distributed in the hope that it will be useful,\n",
    "but WITHOUT ANY WARRANTY; without even the implied warranty of\n",
    "MERCHANTABILITY or FITNESS FOR A PARTICULAR PURPOSE.  See the\n",
    "GNU General Public License for more details.\n",
    "\n",
    "You should have received a copy of the GNU General Public License\n",
    "along with this program.  If not, see <https://www.gnu.org/licenses/>.\n",
    "\n",
    "---"
   ]
  }
 ],
 "metadata": {
  "kernelspec": {
   "display_name": "Python 3 (ipykernel)",
   "language": "python",
   "name": "python3"
  },
  "language_info": {
   "codemirror_mode": {
    "name": "ipython",
    "version": 3
   },
   "file_extension": ".py",
   "mimetype": "text/x-python",
   "name": "python",
   "nbconvert_exporter": "python",
   "pygments_lexer": "ipython3",
   "version": "3.9.12"
  }
 },
 "nbformat": 4,
 "nbformat_minor": 5
}
